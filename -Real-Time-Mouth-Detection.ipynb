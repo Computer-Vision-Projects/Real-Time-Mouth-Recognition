{
 "cells": [
  {
   "cell_type": "code",
   "execution_count": null,
   "id": "97519a04-42a1-452d-ae56-d4d5b39859ee",
   "metadata": {},
   "outputs": [],
   "source": [
    "\n",
    "import cv2 ,time\n",
    "\n",
    "face_cascade=cv2.CascadeClassifier(\"C:\\\\Users\\\\Magic\\\\anaconda3\\\\envs\\\\work\\\\Lib\\\\site-packages\\\\cv2\\\\data\\\\haarcascade_frontalface_default.xml\")\n",
    "smile_cascade=cv2.CascadeClassifier(\"C:\\\\Users\\\\Magic\\\\anaconda3\\\\envs\\\\work\\\\Lib\\\\site-packages\\\\cv2\\\\data\\\\haarcascade_smile.xml\")\n",
    "\n",
    "video=cv2.VideoCapture(0)\n",
    "\n",
    "while True:\n",
    "    check,frame=video.read()\n",
    "    gray = cv2.cvtColor(frame,cv2.COLOR_BGR2GRAY)\n",
    "    face=face_cascade.detectMultiScale(gray,scaleFactor=1.1,minNeighbors=5)\n",
    "    for x,y,w,h in face:\n",
    "        img=cv2.rectangle(frame,(x,y),(x+w,y+h),(0,0,255),3)\n",
    "        smile=smile_cascade.detectMultiScale(gray,scaleFactor=1.8,minNeighbors=30)\n",
    "        for x,y,w,h in smile:\n",
    "            img=cv2.circle(frame, (int(x+0.1*w),(y+20)), 3, (0,0,255), 3), cv2.circle(frame, (int(x+0.9*w),(y+20)), 3, (0,0,255), 3)\n",
    "            font = cv2.FONT_HERSHEY_SIMPLEX\n",
    "            text = \"Smile!!\"\n",
    "            cv2.putText(frame, text, (50,50), font, 1, (255, 255, 255), 3)\n",
    "\n",
    "    cv2.imshow('-Real-Time-Mouth-Recognition-',frame)\n",
    "    key=cv2.waitKey(1)\n",
    "\n",
    "    if key==ord('q'):\n",
    "         break\n",
    "\n",
    "video.release()\n",
    "cv2.destroyAllWindows  "
   ]
  }
 ],
 "metadata": {
  "kernelspec": {
   "display_name": "Python 3 (ipykernel)",
   "language": "python",
   "name": "python3"
  },
  "language_info": {
   "codemirror_mode": {
    "name": "ipython",
    "version": 3
   },
   "file_extension": ".py",
   "mimetype": "text/x-python",
   "name": "python",
   "nbconvert_exporter": "python",
   "pygments_lexer": "ipython3",
   "version": "3.8.12"
  }
 },
 "nbformat": 4,
 "nbformat_minor": 5
}
